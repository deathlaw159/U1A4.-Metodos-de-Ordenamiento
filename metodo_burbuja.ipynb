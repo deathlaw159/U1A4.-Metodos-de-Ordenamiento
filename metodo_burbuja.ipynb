{
 "cells": [
  {
   "cell_type": "code",
   "execution_count": 2,
   "id": "111a8580-ffab-42b7-a469-b4ce3a5204cc",
   "metadata": {},
   "outputs": [],
   "source": [
    "## Metodo de Ordenamiento Burbuja\n"
   ]
  },
  {
   "cell_type": "code",
   "execution_count": 8,
   "id": "f5add660-77ca-490e-a73c-51425d47d235",
   "metadata": {},
   "outputs": [
    {
     "name": "stdout",
     "output_type": "stream",
     "text": [
      "\n",
      "Inicio del ordenamiento....\n",
      "\n",
      " Numero de pasada:  1\n",
      "numero de elemento:  1\n",
      "Comparacion de valor: 64 con valor: 0\n",
      "***cambio de elemento 0 por elemento 1***\n",
      "numero de elemento:  1\n",
      "Comparacion de valor: 64 con valor: 25\n",
      "***cambio de elemento 1 por elemento 2***\n",
      "numero de elemento:  1\n",
      "Comparacion de valor: 64 con valor: 12\n",
      "***cambio de elemento 2 por elemento 3***\n",
      "numero de elemento:  1\n",
      "Comparacion de valor: 64 con valor: 22\n",
      "***cambio de elemento 3 por elemento 4***\n",
      "numero de elemento:  1\n",
      "Comparacion de valor: 64 con valor: 1\n",
      "***cambio de elemento 4 por elemento 5***\n",
      "numero de elemento:  1\n",
      "Comparacion de valor: 64 con valor: 90\n",
      "\n",
      " Numero de pasada:  2\n",
      "numero de elemento:  2\n",
      "Comparacion de valor: 0 con valor: 25\n",
      "numero de elemento:  2\n",
      "Comparacion de valor: 25 con valor: 12\n",
      "***cambio de elemento 1 por elemento 2***\n",
      "numero de elemento:  2\n",
      "Comparacion de valor: 25 con valor: 22\n",
      "***cambio de elemento 2 por elemento 3***\n",
      "numero de elemento:  2\n",
      "Comparacion de valor: 25 con valor: 1\n",
      "***cambio de elemento 3 por elemento 4***\n",
      "numero de elemento:  2\n",
      "Comparacion de valor: 25 con valor: 64\n",
      "\n",
      " Numero de pasada:  3\n",
      "numero de elemento:  3\n",
      "Comparacion de valor: 0 con valor: 12\n",
      "numero de elemento:  3\n",
      "Comparacion de valor: 12 con valor: 22\n",
      "numero de elemento:  3\n",
      "Comparacion de valor: 22 con valor: 1\n",
      "***cambio de elemento 2 por elemento 3***\n",
      "numero de elemento:  3\n",
      "Comparacion de valor: 22 con valor: 25\n",
      "\n",
      " Numero de pasada:  4\n",
      "numero de elemento:  4\n",
      "Comparacion de valor: 0 con valor: 12\n",
      "numero de elemento:  4\n",
      "Comparacion de valor: 12 con valor: 1\n",
      "***cambio de elemento 1 por elemento 2***\n",
      "numero de elemento:  4\n",
      "Comparacion de valor: 12 con valor: 22\n",
      "\n",
      " Numero de pasada:  5\n",
      "numero de elemento:  5\n",
      "Comparacion de valor: 0 con valor: 1\n",
      "numero de elemento:  5\n",
      "Comparacion de valor: 1 con valor: 12\n",
      "\n",
      " Numero de pasada:  6\n",
      "numero de elemento:  6\n",
      "Comparacion de valor: 0 con valor: 1\n",
      "\n",
      " Numero de pasada:  7\n",
      "\n",
      "... Fin del ordenamiento\n",
      "lista original:  [64, 0, 25, 12, 22, 1, 90]\n",
      "lista ordenada:  [0, 1, 12, 22, 25, 64, 90]\n"
     ]
    }
   ],
   "source": [
    "import time\n",
    "def metodo_burbuja(lista):\n",
    "    print(\"\\nInicio del ordenamiento....\")\n",
    "    for i in range (len(lista)):\n",
    "        print(\"\\n Numero de pasada: \", i + 1)\n",
    "        for j in range (0, len(lista) - i - 1):\n",
    "            print(\"numero de elemento: \", i + 1)\n",
    "            print(f\"Comparacion de valor: {lista[j]} con valor: {lista[j+1]}\")\n",
    "            \n",
    "            if lista[j] > lista[j + 1]:\n",
    "                lista[j], lista[j + 1] = lista[j + 1], lista[j]\n",
    "                print(f\"***cambio de elemento {j} por elemento {j+1}***\")\n",
    "    print(\"\\n... Fin del ordenamiento\")\n",
    "    return lista\n",
    "lista_ejemplo = [64, 0, 25, 12, 22, 1, 90]\n",
    "lista_original = lista_ejemplo.copy()\n",
    "lista_ordenada = metodo_burbuja(lista_original)\n",
    "\n",
    "print(\"lista original: \", lista_ejemplo)\n",
    "print(\"lista ordenada: \", lista_ordenada)\n"
   ]
  },
  {
   "cell_type": "code",
   "execution_count": 7,
   "id": "8e018436-4d9f-40db-93ae-4babd9c64831",
   "metadata": {},
   "outputs": [],
   "source": [
    "## Metodo QuickSort"
   ]
  },
  {
   "cell_type": "code",
   "execution_count": 13,
   "id": "a0624731-604f-4db3-953d-678e262bbed0",
   "metadata": {},
   "outputs": [
    {
     "name": "stdout",
     "output_type": "stream",
     "text": [
      "[64, 0, 25, 12, 22, 1]\n",
      "lista original:  [64, 0, 25, 12, 22, 1, 90]\n",
      "lista ordenada:  [0, 1, 12, 22, 25, 64, 90]\n"
     ]
    }
   ],
   "source": [
    "def quick_sort(lista):\n",
    "    if len(lista) < 2:\n",
    "        return lista\n",
    "    else:\n",
    "        pivote = lista[-1]\n",
    "        menores = [x for x in lista [:-1] if x < pivote]\n",
    "        mayores = [x for x in lista [:-1] if x >= pivote]\n",
    "        return quick_sort(menores) + [pivote] + quick_sort(mayores)\n",
    "\n",
    "lista_ejemplo = [64, 0, 25, 12, 22, 1, 90]\n",
    "print(lista_ejemplo[:-1])\n",
    "lista_original = lista_ejemplo.copy()\n",
    "lista_ordenada = quick_sort(lista_original)\n",
    "\n",
    "print(\"lista original: \", lista_ejemplo)\n",
    "print(\"lista ordenada: \", lista_ordenada)"
   ]
  },
  {
   "cell_type": "code",
   "execution_count": 26,
   "id": "4eb8c023-5975-42b7-a11a-51cf0051d276",
   "metadata": {},
   "outputs": [
    {
     "name": "stdout",
     "output_type": "stream",
     "text": [
      "El tiempo de ejecucion fue:  0.29399967193603516 segundos\n"
     ]
    }
   ],
   "source": [
    "import time\n",
    "\n",
    "def funcion_ejemplo():\n",
    "    suma = 0\n",
    "    for i in range(1_000_000):\n",
    "        suma += i\n",
    "    return suma\n",
    "\n",
    "inicio = time.time()\n",
    "\n",
    "resultado = funcion_ejemplo()\n",
    "\n",
    "fin = time.time()\n",
    "\n",
    "print(\"El tiempo de ejecucion fue: \", fin - inicio, \"segundos\")"
   ]
  }
 ],
 "metadata": {
  "kernelspec": {
   "display_name": "Python 3 (ipykernel)",
   "language": "python",
   "name": "python3"
  },
  "language_info": {
   "codemirror_mode": {
    "name": "ipython",
    "version": 3
   },
   "file_extension": ".py",
   "mimetype": "text/x-python",
   "name": "python",
   "nbconvert_exporter": "python",
   "pygments_lexer": "ipython3",
   "version": "3.12.4"
  }
 },
 "nbformat": 4,
 "nbformat_minor": 5
}
